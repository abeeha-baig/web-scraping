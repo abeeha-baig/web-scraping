{
 "cells": [
  {
   "cell_type": "code",
   "execution_count": 53,
   "id": "fdbb143d-e760-4786-8b1d-17b57a6c0a86",
   "metadata": {},
   "outputs": [],
   "source": [
    "from selenium import webdriver\n",
    "from time import sleep\n",
    "from selenium.webdriver.common.by import By"
   ]
  },
  {
   "cell_type": "code",
   "execution_count": 54,
   "id": "91277e98-7949-4be0-9b8e-bc27f9c214c5",
   "metadata": {},
   "outputs": [],
   "source": [
    "path = r'C:\\Users\\Dell\\Desktop\\Machine learning\\web scrapping\\geckodriver.exe'"
   ]
  },
  {
   "cell_type": "code",
   "execution_count": 55,
   "id": "ab114c52-52f1-4ada-b01b-5ad02d9310d3",
   "metadata": {},
   "outputs": [],
   "source": [
    "# service = webdriver.firefox.service.Service(path)\n",
    "# driver = webdriver.Firefox(service=service)\n",
    "# driver.get('https://www.amazon.in')\n",
    "\n",
    "driver = webdriver.Firefox()\n",
    "\n",
    "# Navigate to a webpage\n",
    "driver.get(\"https://www.amazon.in\")\n",
    "driver.maximize_window()\n",
    "# Find an element by XPath\n",
    "input_search = driver.find_element(By.ID, 'twotabsearchtextbox')\n",
    "search_button = driver.find_element(By.XPATH, \"(//input[@type='submit'])[1]\")"
   ]
  },
  {
   "cell_type": "code",
   "execution_count": 56,
   "id": "aea91fca-b490-4a0d-b897-72dfd411c045",
   "metadata": {},
   "outputs": [],
   "source": [
    "input_search.send_keys(\"smartphones under 10000\")\n",
    "sleep(1)\n",
    "search_button.click()"
   ]
  },
  {
   "cell_type": "code",
   "execution_count": 57,
   "id": "4741fa02-99c9-4b41-ab31-a2692b3cf7c2",
   "metadata": {},
   "outputs": [],
   "source": [
    "product_class = 'a-size-medium a-color-base a-text-normal'"
   ]
  },
  {
   "cell_type": "code",
   "execution_count": 59,
   "id": "2116037c-13b4-4519-91d5-56e456bd2a9f",
   "metadata": {},
   "outputs": [
    {
     "name": "stdout",
     "output_type": "stream",
     "text": [
      "Scraping page 1\n",
      "Scraping page 2\n",
      "Scraping page 3\n",
      "Scraping page 4\n",
      "Scraping page 5\n",
      "Scraping page 6\n",
      "Scraping page 7\n",
      "Scraping page 8\n",
      "Scraping page 9\n",
      "Scraping page 10\n"
     ]
    }
   ],
   "source": [
    "products = []\n",
    "for i in range(10):\n",
    "    print('Scraping page', i+1)\n",
    "    product = driver.find_elements(By.XPATH, \"//span[@class='a-size-medium a-color-base a-text-normal']\")\n",
    "    for p in product:\n",
    "        products.append(p.text)\n",
    "    next_button = driver.find_element(By.XPATH, \"//a[text()='Next']\")\n",
    "    next_button.click()\n",
    "    sleep(2)"
   ]
  },
  {
   "cell_type": "code",
   "execution_count": 60,
   "id": "03a437ee-3ca1-4bf0-8f58-3f9f967c6229",
   "metadata": {},
   "outputs": [
    {
     "data": {
      "text/plain": [
       "161"
      ]
     },
     "execution_count": 60,
     "metadata": {},
     "output_type": "execute_result"
    }
   ],
   "source": [
    "len(products)"
   ]
  },
  {
   "cell_type": "code",
   "execution_count": 61,
   "id": "55321ebb-d7c1-4972-9e4c-4264945fa0f2",
   "metadata": {},
   "outputs": [
    {
     "data": {
      "text/plain": [
       "['Redmi 12C (Mint Green, 4GB RAM, 64GB Storage) | High Performance Mediatek Helio G85 | Big 17cm(6.71) HD+ Display with 5000mAh(typ) Battery',\n",
       " 'TECNO Spark 9T (Iris Purple, 4GB RAM,64GB Storage) | 50MP SuperNight Triple Camera | 18W Flash Charger',\n",
       " 'Vivo Y02t (Sunset Gold, 4GB RAM, 64GB Storage) with No Cost EMI/Additional Exchange Offers',\n",
       " 'Redmi A2+ (Aqua Blue, 4GB RAM, 128GB Storage)',\n",
       " 'Redmi A2 (Sea Green, 4GB RAM, 64GB Storage) | Powerful Octa Core G36 Processor | Upto 7GB RAM | Large 16.5 cm HD+ Display with Massive 5000mAh Battery | 2 Years Warranty [Limited time Offer]']"
      ]
     },
     "execution_count": 61,
     "metadata": {},
     "output_type": "execute_result"
    }
   ],
   "source": [
    "products[:5]"
   ]
  },
  {
   "cell_type": "code",
   "execution_count": 62,
   "id": "1d821995-92ac-4355-96d3-61068eb7eaca",
   "metadata": {},
   "outputs": [],
   "source": [
    "driver.quit()"
   ]
  },
  {
   "cell_type": "code",
   "execution_count": null,
   "id": "21bd7cac-f96b-4af0-8ad4-147ba3cbd63b",
   "metadata": {},
   "outputs": [],
   "source": []
  }
 ],
 "metadata": {
  "kernelspec": {
   "display_name": "Python 3 (ipykernel)",
   "language": "python",
   "name": "python3"
  },
  "language_info": {
   "codemirror_mode": {
    "name": "ipython",
    "version": 3
   },
   "file_extension": ".py",
   "mimetype": "text/x-python",
   "name": "python",
   "nbconvert_exporter": "python",
   "pygments_lexer": "ipython3",
   "version": "3.10.0"
  }
 },
 "nbformat": 4,
 "nbformat_minor": 5
}
